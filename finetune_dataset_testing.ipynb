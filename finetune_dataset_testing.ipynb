{
 "cells": [
  {
   "cell_type": "code",
   "execution_count": 1,
   "metadata": {},
   "outputs": [
    {
     "name": "stderr",
     "output_type": "stream",
     "text": [
      "/homes/jpmg86/anaconda3/envs/MuMRVQ/lib/python3.9/site-packages/tqdm/auto.py:21: TqdmWarning: IProgress not found. Please update jupyter and ipywidgets. See https://ipywidgets.readthedocs.io/en/stable/user_install.html\n",
      "  from .autonotebook import tqdm as notebook_tqdm\n"
     ]
    }
   ],
   "source": [
    "from src.dataloading.finetuning_datasets import GTZANFinetuneDataset\n",
    "\n",
    "GTZAN = GTZANFinetuneDataset(data_dir=\"/import/c4dm-datasets/gtzan_torchaudio/genres\", target_length=5, n_augmentations=1)"
   ]
  },
  {
   "cell_type": "code",
   "execution_count": 4,
   "metadata": {},
   "outputs": [],
   "source": [
    "from src.dataloading.finetuning_datasets import FineTuneDataModule\n",
    "\n",
    "ftdm = FineTuneDataModule(train_data_dir=\"/import/c4dm-datasets/gtzan_torchaudio/genres\", target_length=5, n_augmentations=1, batch_size=32, validation_split=0.1, num_workers=4)"
   ]
  },
  {
   "cell_type": "code",
   "execution_count": 5,
   "metadata": {},
   "outputs": [],
   "source": [
    "ftdm.setup()"
   ]
  },
  {
   "cell_type": "code",
   "execution_count": 6,
   "metadata": {},
   "outputs": [
    {
     "data": {
      "text/plain": [
       "{'wav': tensor([[[ 6.3448e-02, -5.4059e-02, -9.5746e-02,  ...,  5.3634e-02,\n",
       "            6.1270e-02,  4.9721e-02]],\n",
       " \n",
       "         [[-1.6919e-01, -1.2788e-01, -5.3676e-02,  ...,  5.0388e-05,\n",
       "            1.5059e-02,  2.1972e-03]],\n",
       " \n",
       "         [[ 3.3144e-02,  3.9009e-02,  4.0906e-02,  ..., -1.1315e-04,\n",
       "            8.9326e-04,  1.6371e-03]],\n",
       " \n",
       "         ...,\n",
       " \n",
       "         [[ 3.1553e-01,  3.5091e-01,  3.1281e-01,  ..., -7.7571e-02,\n",
       "           -2.5907e-02, -4.3251e-03]],\n",
       " \n",
       "         [[-3.8526e-02, -3.5782e-02, -2.9526e-02,  ...,  2.9457e-02,\n",
       "            2.4907e-02,  1.9358e-02]],\n",
       " \n",
       "         [[ 2.1894e-01,  1.0481e-01,  9.1445e-02,  ...,  2.0602e-01,\n",
       "            2.3675e-01,  1.7661e-01]]]),\n",
       " 'label': tensor([4, 4, 1, 3, 4, 2, 6, 7, 1, 2, 4, 0, 6, 3, 4, 7, 9, 5, 6, 0, 6, 5, 7, 2,\n",
       "         0, 6, 7, 8, 6, 6, 0, 2], dtype=torch.int8),\n",
       " 'original_lens': tensor([120000, 120000, 120000, 120000, 120000, 120000, 120000, 120000, 120000,\n",
       "         120000, 120000, 120000, 120000, 120000, 120000, 120000, 120000, 120000,\n",
       "         120000, 120000, 120000, 120000, 120000, 120000, 120000, 120000, 120000,\n",
       "         120000, 120000, 120000, 120000, 120000])}"
      ]
     },
     "execution_count": 6,
     "metadata": {},
     "output_type": "execute_result"
    }
   ],
   "source": [
    "from tqdm import tqdm\n",
    "dataloader = ftdm.train_dataloader()\n",
    "for k in tqdm(range(len(dataloader))):\n",
    "   print(next(iter(dataloader)))"
   ]
  },
  {
   "cell_type": "code",
   "execution_count": 5,
   "metadata": {},
   "outputs": [],
   "source": [
    "from src.models.finetune_model import MaCHUPFinetune\n",
    "from src.models.model import MaCHUP\n",
    "from src.models.Encodec import Encodec\n",
    "from src.models.Transformer.Decoder import VanillaDecoder\n",
    "from src.models.Transformer.Encoder import VanillaEncoder\n",
    "\n",
    "machup = MaCHUP(encodec=Encodec(),encoder=VanillaEncoder(),decoder=VanillaDecoder(), adapt_sequence_len=True)"
   ]
  },
  {
   "cell_type": "code",
   "execution_count": 13,
   "metadata": {},
   "outputs": [
    {
     "data": {
      "text/plain": [
       "src.models.Transformer.Encoder.VanillaEncoder"
      ]
     },
     "execution_count": 13,
     "metadata": {},
     "output_type": "execute_result"
    }
   ],
   "source": [
    "type(machup._modules.get('transformer_encoder'))"
   ]
  },
  {
   "cell_type": "code",
   "execution_count": 3,
   "metadata": {},
   "outputs": [
    {
     "name": "stdout",
     "output_type": "stream",
     "text": [
      "tensor shape before augmentation batching: torch.Size([2, 1, 1, 120000])\n",
      "tensor shape after augmentation batching: torch.Size([2, 1, 120000])\n",
      "codes: torch.Size([2, 4, 375])\n",
      "padding_mask: torch.Size([2, 375])\n",
      "codes: torch.Size([2, 4, 375])\n",
      "padding_mask: torch.Size([2, 375])\n",
      "masking after with masking proba : 0.5\n",
      "torch.Size([2, 375, 960])\n",
      "torch.Size([960])\n",
      "============== codes_masking ==============\n",
      "tensor([[[ True, False, False,  ..., False, False, False],\n",
      "         [ True, False, False,  ..., False, False, False],\n",
      "         [ True, False, False,  ..., False, False, False],\n",
      "         [ True, False, False,  ..., False, False, False]],\n",
      "\n",
      "        [[False,  True, False,  ..., False,  True, False],\n",
      "         [False,  True, False,  ..., False,  True, False],\n",
      "         [False,  True, False,  ..., False,  True, False],\n",
      "         [False,  True, False,  ..., False,  True, False]]])\n",
      "torch.Size([2, 4, 375])\n",
      "1504 tokens were masked with random masking\n",
      "tensor([[[1025,  732,  732,  ...,  399,  732,  399],\n",
      "         [1025,  691,  845,  ...,  333,  845,  691],\n",
      "         [1025,  919,  448,  ...,  456,  900,  968],\n",
      "         [1025,  592,  490,  ...,  816,  890,  321]],\n",
      "\n",
      "        [[ 732, 1025,  732,  ...,  732, 1025,  732],\n",
      "         [ 237, 1025,  348,  ...,  691, 1025,  162],\n",
      "         [ 456, 1025,  197,  ...,  629, 1025,  721],\n",
      "         [ 751, 1025,  321,  ...,  431, 1025,  126]]])\n",
      "shape coming out of encoder: ============\n",
      "torch.Size([2, 188, 960])\n",
      "tensor(False)\n",
      "tensor(False)\n",
      "tensor(False)\n",
      "=========== Masked without embeddings shape ========\n",
      "torch.Size([2, 375, 960])\n",
      "========= all_masked.shape ==========\n",
      "torch.Size([2, 375, 960])\n",
      "class token =============\n",
      "torch.Size([2, 1, 960])\n",
      "========= All outputs for the encoder========\n",
      "-------- masked output with class token --------\n",
      "torch.Size([2, 188, 960])\n",
      "-------- unmasked output with class token and original embeddingd without class token --------\n",
      "torch.Size([2, 376, 960])\n",
      "torch.Size([2, 375, 960])\n",
      "-------- codes_mask.shape ---------\n",
      "torch.Size([2, 4, 375])\n",
      "------ padding_mask.shape ----------\n",
      "torch.Size([2, 376])\n"
     ]
    }
   ],
   "source": [
    "import torch\n",
    "from src.models import *\n",
    "\n",
    "gtzanmodel = MaCHUPFinetune(encodec=Encodec(),encoder=VanillaEncoder(),decoder=VanillaDecoder(),target_layer=\"transformer_encoder\", freeze_encoder=True)\n",
    "test_data = torch.randn(2,1,1, 24000*5)\n",
    "output = gtzanmodel(test_data)"
   ]
  },
  {
   "cell_type": "code",
   "execution_count": null,
   "metadata": {},
   "outputs": [],
   "source": []
  },
  {
   "cell_type": "code",
   "execution_count": 2,
   "metadata": {},
   "outputs": [],
   "source": [
    "# check if all parameters are frozen in gtzanmodel.machup\n",
    "for name, param in gtzanmodel.machup.named_parameters():\n",
    "    assert param.requires_grad == False, name"
   ]
  },
  {
   "cell_type": "code",
   "execution_count": null,
   "metadata": {},
   "outputs": [],
   "source": []
  }
 ],
 "metadata": {
  "kernelspec": {
   "display_name": "MuMRVQ",
   "language": "python",
   "name": "python3"
  },
  "language_info": {
   "codemirror_mode": {
    "name": "ipython",
    "version": 3
   },
   "file_extension": ".py",
   "mimetype": "text/x-python",
   "name": "python",
   "nbconvert_exporter": "python",
   "pygments_lexer": "ipython3",
   "version": "3.9.18"
  }
 },
 "nbformat": 4,
 "nbformat_minor": 2
}
