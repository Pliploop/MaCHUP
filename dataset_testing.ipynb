{
 "cells": [
  {
   "cell_type": "code",
   "execution_count": 331,
   "metadata": {},
   "outputs": [],
   "source": [
    "# def get_contrastive_matrix(batch_size, sequence_length, num_augmentations, window_size):\n",
    "#     total_samples = batch_size* sequence_length * num_augmentations\n",
    "#     same_sample = torch.zeros((total_samples, total_samples), dtype=torch.int)\n",
    "#     window_mask = torch.zeros_like(same_sample)\n",
    "    \n",
    "#     window_width = window_size//2 +1\n",
    "\n",
    "#     for i in range(total_samples):\n",
    "#         i_indices = []\n",
    "#         for j in range(total_samples):\n",
    "#             if i // sequence_length == j // sequence_length:\n",
    "#                 i_indices.append(j)\n",
    "#         same_sample[i,i_indices] = 1\n",
    "    \n",
    "#     # return contrastive_matrix\n",
    "    \n",
    "#     for k in range(-window_width, window_width):\n",
    "#         window_mask += torch.diag(torch.ones((total_samples)),k)[:total_samples,:total_samples].int()\n",
    "    \n",
    "#     return same_sample * window_mask\n",
    "\n",
    "import torch\n",
    "\n",
    "def get_contrastive_matrix(batch_size, sequence_length, num_augmentations, window_size):\n",
    "    total_samples = batch_size * sequence_length * num_augmentations\n",
    "\n",
    "    # Create a matrix indicating whether samples are from the same sequence\n",
    "    \n",
    "    diag_block = torch.ones((sequence_length,sequence_length))\n",
    "    same_sequence = torch.block_diag(*((batch_size * num_augmentations) * [diag_block]))\n",
    "    \n",
    "\n",
    "    # Create a window mask\n",
    "    window_width = window_size // 2 + 1\n",
    "    window_mask = torch.diag(torch.ones((total_samples)), 0)\n",
    "\n",
    "    for k in range(1, window_width):\n",
    "        window_mask += torch.diag(torch.ones((total_samples - k)), k)\n",
    "        window_mask += torch.diag(torch.ones((total_samples - k)), -k)\n",
    "\n",
    "    # Apply the window mask\n",
    "    window_mask = window_mask[:total_samples, :total_samples]\n",
    "    \n",
    "\n",
    "    # Return the contrastive matrix\n",
    "    return (same_sequence + window_mask) * same_sequence, (batch_size,num_augmentations,sequence_length,window_size)\n",
    "\n",
    "A = get_contrastive_matrix(2,10,2,4)"
   ]
  },
  {
   "cell_type": "code",
   "execution_count": 332,
   "metadata": {},
   "outputs": [
    {
     "data": {
      "text/plain": [
       "<matplotlib.image.AxesImage at 0x7f93db5850a0>"
      ]
     },
     "execution_count": 332,
     "metadata": {},
     "output_type": "execute_result"
    },
    {
     "data": {
      "image/png": "[encoded data removed]",
      "text/plain": [
       "<Figure size 640x480 with 1 Axes>"
      ]
     },
     "metadata": {},
     "output_type": "display_data"
    }
   ],
   "source": [
    "import matplotlib.pyplot as plt\n",
    "\n",
    "plt.imshow(A[0].numpy())"
   ]
  },
  {
   "cell_type": "code",
   "execution_count": null,
   "metadata": {},
   "outputs": [],
   "source": []
  },
  {
   "cell_type": "code",
   "execution_count": 335,
   "metadata": {},
   "outputs": [],
   "source": [
    "def expand_contrastive_matrix(contrastive_matrix=None):\n",
    "    matrix = contrastive_matrix[0]\n",
    "    B, N, T, W = contrastive_matrix[1]\n",
    "    new_size = B * N * (T + 1)\n",
    "    new_matrix = torch.zeros(new_size, new_size)\n",
    "\n",
    "    # Create indices for block assignment\n",
    "    indices = torch.arange(0, B * N * T, T)\n",
    "    delays = indices // T + 1\n",
    "    for k, delay in zip(indices, delays):\n",
    "        new_matrix[k + delay : k + delay + T, k + delay : k + delay + T] = matrix[k : k + T, k : k + T]\n",
    "\n",
    "    indices = torch.arange(0, B * N * (T + 1), T + 1)\n",
    "    i_indices, j_indices = torch.meshgrid(indices, indices)\n",
    "    mask = (i_indices // ((T + 1) * N)) == (j_indices // ((T + 1) * N))\n",
    "    new_matrix[i_indices[mask], j_indices[mask]] = 2\n",
    "    new_matrix[j_indices[mask], i_indices[mask]] = 2\n",
    "\n",
    "    return new_matrix, (B, N, T, W)\n",
    "\n",
    "\n",
    "    \n",
    "B = expand_contrastive_matrix(A)"
   ]
  },
  {
   "cell_type": "code",
   "execution_count": 336,
   "metadata": {},
   "outputs": [
    {
     "data": {
      "text/plain": [
       "<matplotlib.image.AxesImage at 0x7f93d8c64c70>"
      ]
     },
     "execution_count": 336,
     "metadata": {},
     "output_type": "execute_result"
    },
    {
     "data": {
      "image/png": "[encoded data removed]",
      "text/plain": [
       "<Figure size 640x480 with 1 Axes>"
      ]
     },
     "metadata": {},
     "output_type": "display_data"
    }
   ],
   "source": [
    "import matplotlib.pyplot as plt\n",
    "\n",
    "plt.imshow(B[0].numpy())"
   ]
  },
  {
   "cell_type": "code",
   "execution_count": 337,
   "metadata": {},
   "outputs": [
    {
     "name": "stdout",
     "output_type": "stream",
     "text": [
      "(2, 2, 10, 4)\n"
     ]
    },
    {
     "data": {
      "text/plain": [
       "<matplotlib.image.AxesImage at 0x7f93d8a3cbb0>"
      ]
     },
     "execution_count": 337,
     "metadata": {},
     "output_type": "execute_result"
    },
    {
     "data": {
      "image/png": "[encoded data removed]",
      "text/plain": [
       "<Figure size 640x480 with 3 Axes>"
      ]
     },
     "metadata": {},
     "output_type": "display_data"
    }
   ],
   "source": [
    "def mask_contrastive_matrix(contrastive_matrix):\n",
    "    \n",
    "    matrix = contrastive_matrix[0]\n",
    "    masked_matrix_blackout = matrix.clone()\n",
    "    masked_matrix = matrix.clone()\n",
    "    \n",
    "    print(contrastive_matrix[1])\n",
    "    B_mat, N_mat, T_mat, W_mat = contrastive_matrix[1]\n",
    "    \n",
    "    retained_idx = [[1,2],[1,2],[1,2],[1,2]]\n",
    "    masked_idx = [[0,2],[1,2],[0,3],[0,3]]\n",
    "    \n",
    "    B = 4\n",
    "    \n",
    "    for i in range(B):\n",
    "        \n",
    "        cur_retained_idx = retained_idx[i]\n",
    "        cur_masked_idx = masked_idx[i]\n",
    "        \n",
    "        cur_masked_idx_mat = [k+1 + i*(T_mat+1) for k in cur_masked_idx]\n",
    "\n",
    "        masked_matrix_blackout[cur_masked_idx_mat, :] = -1\n",
    "        masked_matrix_blackout[:, cur_masked_idx_mat] = -1\n",
    "    \n",
    "    index = (masked_matrix_blackout != -1)[0].nonzero().squeeze()\n",
    "    masked_matrix = matrix[index,:][:,index]\n",
    "    \n",
    "    return matrix, masked_matrix_blackout, masked_matrix\n",
    "\n",
    "C,D,E = mask_contrastive_matrix(B)\n",
    "\n",
    "fig,ax = plt.subplots(1,3)\n",
    "ax[0].imshow(C)\n",
    "ax[1].imshow(D)\n",
    "ax[2].imshow(E)"
   ]
  },
  {
   "cell_type": "code",
   "execution_count": 346,
   "metadata": {},
   "outputs": [
    {
     "name": "stdout",
     "output_type": "stream",
     "text": [
      "(tensor([[2., 0., 0.,  ..., 0., 0., 0.],\n",
      "        [0., 2., 2.,  ..., 0., 0., 0.],\n",
      "        [0., 2., 2.,  ..., 0., 0., 0.],\n",
      "        ...,\n",
      "        [0., 0., 0.,  ..., 2., 2., 2.],\n",
      "        [0., 0., 0.,  ..., 2., 2., 2.],\n",
      "        [0., 0., 0.,  ..., 2., 2., 2.]]), (2, 2, 10, 5))\n",
      "tensor([1.1386, 9.5322, 8.8576, 8.9575, 8.9730, 8.4872, 8.6590, 8.2204, 8.8584,\n",
      "        9.2158, 8.9105, 1.1386, 9.2028, 9.3949, 9.1813, 8.7940, 8.8655, 9.0316,\n",
      "        9.6181, 9.0964, 9.6731, 9.2436, 0.8731, 9.6644, 9.1308, 9.3102, 8.3899,\n",
      "        8.8638, 9.3063, 9.2612, 8.9945, 8.2162, 8.8977, 0.8731, 8.8321, 9.1312,\n",
      "        8.9692, 8.3466, 8.9542, 9.3662, 8.0165, 8.5528, 8.9002, 8.6783])\n"
     ]
    },
    {
     "data": {
      "text/plain": [
       "tensor(2.0037)"
      ]
     },
     "execution_count": 346,
     "metadata": {},
     "output_type": "execute_result"
    },
    {
     "data": {
      "image/png": "[encoded data removed]",
      "text/plain": [
       "<Figure size 640x480 with 1 Axes>"
      ]
     },
     "metadata": {},
     "output_type": "display_data"
    }
   ],
   "source": [
    "class MySupConLoss(nn.Module):\n",
    "    \n",
    "    def __init__(self, temperature=0.07, contrast_mode='all',\n",
    "                 base_temperature=0.07):\n",
    "        super().__init__()\n",
    "        self.temperature = temperature\n",
    "        self.contrast_mode = contrast_mode\n",
    "        self.base_temperature = base_temperature\n",
    "        self.first_run = True\n",
    "        self.sim_function = nn.CosineSimilarity(2)\n",
    "        \n",
    "    def forward(self,features, positive_mask, negative_mask):\n",
    "        \n",
    "        ## features shape extended_batch, d_model\n",
    "        ## mask shape extended_batch,extended_batch\n",
    "        \n",
    "        ## add zeros to negative and positive masks to prevent self-contrasting\n",
    "        \n",
    "        self_contrast = (~(torch.eye(positive_mask.shape[0]).bool())).int()\n",
    "        \n",
    "        \n",
    "        positive_mask = positive_mask * self_contrast\n",
    "        negative_mask = negative_mask * self_contrast\n",
    "        \n",
    "        \n",
    "        original_cosim = torch.exp(self.sim_function(features.unsqueeze(1),features.unsqueeze(0))/1)\n",
    "        \n",
    "        positives = original_cosim * positive_mask\n",
    "        negatives = original_cosim * negative_mask\n",
    "        \n",
    "        plt.imshow(negatives)\n",
    "        negatives_summed = negatives.sum(1)\n",
    "        positives_negged = positives / negatives_summed\n",
    "        \n",
    "        positives_negged = torch.nan_to_num(torch.log(positives_negged), neginf=0)\n",
    "        \n",
    "        \n",
    "        positive_cardinal = - positive_mask.sum(1)\n",
    "        # print(positive_cardinal)\n",
    "        # print(positives_negged.sum(1))\n",
    "        \n",
    "        loss = positives_negged.sum(1)/positive_cardinal\n",
    "        # plt.imshow(loss)\n",
    "        loss = loss.mean()\n",
    "        \n",
    "        return loss\n",
    "    \n",
    "test_data = torch.randn(44,44)\n",
    "test_positive_mask = get_contrastive_matrix(2,10,2,5)\n",
    "test_positive_mask = expand_contrastive_matrix(test_positive_mask)\n",
    "\n",
    "print(test_positive_mask)\n",
    "\n",
    "\n",
    "\n",
    "test_negative_mask = test_positive_mask[0] > 0\n",
    "test_positive_mask = (test_positive_mask[0]) ==2\n",
    "\n",
    "\n",
    "loss = MySupConLoss()\n",
    "\n",
    "loss(test_data,test_positive_mask,test_negative_mask)\n"
   ]
  },
  {
   "cell_type": "code",
   "execution_count": 341,
   "metadata": {},
   "outputs": [
    {
     "data": {
      "text/plain": [
       "tensor([[ True, False, False, False, False,  True, False, False, False, False,\n",
       "         False, False, False, False, False, False, False, False, False, False],\n",
       "        [False,  True,  True,  True, False, False, False, False, False, False,\n",
       "         False, False, False, False, False, False, False, False, False, False],\n",
       "        [False,  True,  True,  True,  True, False, False, False, False, False,\n",
       "         False, False, False, False, False, False, False, False, False, False],\n",
       "        [False,  True,  True,  True,  True, False, False, False, False, False,\n",
       "         False, False, False, False, False, False, False, False, False, False],\n",
       "        [False, False,  True,  True,  True, False, False, False, False, False,\n",
       "         False, False, False, False, False, False, False, False, False, False],\n",
       "        [ True, False, False, False, False,  True, False, False, False, False,\n",
       "         False, False, False, False, False, False, False, False, False, False],\n",
       "        [False, False, False, False, False, False,  True,  True,  True, False,\n",
       "         False, False, False, False, False, False, False, False, False, False],\n",
       "        [False, False, False, False, False, False,  True,  True,  True,  True,\n",
       "         False, False, False, False, False, False, False, False, False, False],\n",
       "        [False, False, False, False, False, False,  True,  True,  True,  True,\n",
       "         False, False, False, False, False, False, False, False, False, False],\n",
       "        [False, False, False, False, False, False, False,  True,  True,  True,\n",
       "         False, False, False, False, False, False, False, False, False, False],\n",
       "        [False, False, False, False, False, False, False, False, False, False,\n",
       "          True, False, False, False, False,  True, False, False, False, False],\n",
       "        [False, False, False, False, False, False, False, False, False, False,\n",
       "         False,  True,  True,  True, False, False, False, False, False, False],\n",
       "        [False, False, False, False, False, False, False, False, False, False,\n",
       "         False,  True,  True,  True,  True, False, False, False, False, False],\n",
       "        [False, False, False, False, False, False, False, False, False, False,\n",
       "         False,  True,  True,  True,  True, False, False, False, False, False],\n",
       "        [False, False, False, False, False, False, False, False, False, False,\n",
       "         False, False,  True,  True,  True, False, False, False, False, False],\n",
       "        [False, False, False, False, False, False, False, False, False, False,\n",
       "          True, False, False, False, False,  True, False, False, False, False],\n",
       "        [False, False, False, False, False, False, False, False, False, False,\n",
       "         False, False, False, False, False, False,  True,  True,  True, False],\n",
       "        [False, False, False, False, False, False, False, False, False, False,\n",
       "         False, False, False, False, False, False,  True,  True,  True,  True],\n",
       "        [False, False, False, False, False, False, False, False, False, False,\n",
       "         False, False, False, False, False, False,  True,  True,  True,  True],\n",
       "        [False, False, False, False, False, False, False, False, False, False,\n",
       "         False, False, False, False, False, False, False,  True,  True,  True]])"
      ]
     },
     "execution_count": 341,
     "metadata": {},
     "output_type": "execute_result"
    }
   ],
   "source": [
    "test_positive_mask"
   ]
  },
  {
   "cell_type": "code",
   "execution_count": null,
   "metadata": {},
   "outputs": [],
   "source": []
  }
 ],
 "metadata": {
  "kernelspec": {
   "display_name": "Python 3.9.18 ('MuMRVQ': conda)",
   "language": "python",
   "name": "python3"
  },
  "language_info": {
   "codemirror_mode": {
    "name": "ipython",
    "version": 3
   },
   "file_extension": ".py",
   "mimetype": "text/x-python",
   "name": "python",
   "nbconvert_exporter": "python",
   "pygments_lexer": "ipython3",
   "version": "3.9.18"
  },
  "orig_nbformat": 4,
  "vscode": {
   "interpreter": {
    "hash": "b4405aeff16a1b3990e07447ac3a41d1af66a9e297606669ae29b9b8994dfaf4"
   }
  }
 },
 "nbformat": 4,
 "nbformat_minor": 2
}
