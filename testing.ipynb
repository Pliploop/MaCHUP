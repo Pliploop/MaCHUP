{
 "cells": [
  {
   "cell_type": "code",
   "execution_count": 13,
   "metadata": {},
   "outputs": [],
   "source": [
    "import torch\n",
    "import torch.distributed as dist\n",
    "import torch.nn.functional as F\n",
    "\n",
    "\n",
    "def masked_mse_loss(\n",
    "    pred: torch.Tensor,\n",
    "    target: torch.Tensor,\n",
    "    mask: torch.Tensor,\n",
    "    normalize_targets: bool = False,\n",
    "):\n",
    "    \"\"\"MSE loss on masked patches\n",
    "\n",
    "    Args:\n",
    "        pred: B x num_patches x D tensor of predict patches\n",
    "        target: B x num_patches x D tensor of target patch values\n",
    "        mask: B x num_patches binary mask with masked patches marked with 1\n",
    "\n",
    "    Return:\n",
    "        loss: Masked mean square error loss\n",
    "    \"\"\"\n",
    "    # Normalize target pixel values\n",
    "    if normalize_targets:\n",
    "        mean = target.mean(dim=-1, keepdim=True)\n",
    "        var = target.var(dim=-1, keepdim=True)\n",
    "        target = (target - mean) / (var + 1.0e-6) ** 0.5\n",
    "\n",
    "    # Calculate MSE loss\n",
    "    loss = (pred - target) ** 2\n",
    "    loss = loss.mean(dim=-1)  # Per patch loss\n",
    "    loss = (loss * mask).sum() / mask.sum()  # Mean of masked patches\n",
    "\n",
    "    return loss\n",
    "\n",
    "\n",
    "\"\"\"\n",
    "Modified from: \n",
    "https://github.com/vturrisi/solo-learn/blob/main/solo/losses/simclr.py\n",
    "https://github.com/vturrisi/solo-learn/blob/main/solo/utils/misc.py\n",
    "\"\"\"\n",
    "\n",
    "\n",
    "def info_nce_loss(z: torch.Tensor, temperature: float = 0.1) -> torch.Tensor:\n",
    "    \"\"\"Computes SimCLR's loss given batch of projected features z\n",
    "    from different views, a positive boolean mask of all positives and\n",
    "    a negative boolean mask of all negatives.\n",
    "\n",
    "    Args:\n",
    "        z (torch.Tensor): (2*B) x D tensor containing features from the views.\n",
    "\n",
    "    Return:\n",
    "        torch.Tensor: SimCLR loss.\n",
    "    \"\"\"\n",
    "\n",
    "    z = F.normalize(z, dim=-1)\n",
    "    gathered_z = gather(z)\n",
    "    \n",
    "    print(gathered_z.shape)\n",
    "\n",
    "    sim = torch.exp(torch.einsum(\"if, jf -> ij\", z, gathered_z) / temperature)\n",
    "    \n",
    "\n",
    "    indexes = torch.arange(z.size(0) // 2, device=z.device).repeat(2)\n",
    "    gathered_indexes = gather(indexes)\n",
    "    print(gathered_indexes)\n",
    "\n",
    "    indexes = indexes.unsqueeze(0)\n",
    "    gathered_indexes = gathered_indexes.unsqueeze(0)\n",
    "\n",
    "    # positives\n",
    "    pos_mask = indexes.t() == gathered_indexes\n",
    "    pos_mask[:, z.size(0) * get_rank() :].fill_diagonal_(0)\n",
    "    \n",
    "    print(pos_mask.int())\n",
    "\n",
    "    # negatives\n",
    "    neg_mask = indexes.t() != gathered_indexes\n",
    "    \n",
    "    print(neg_mask.int())\n",
    "\n",
    "    pos = torch.sum(sim * pos_mask, 1)\n",
    "    neg = torch.sum(sim * neg_mask, 1)\n",
    "    loss = -(torch.mean(torch.log(pos / (pos + neg))))\n",
    "    return loss\n",
    "\n",
    "\n",
    "def get_rank():\n",
    "    if dist.is_available() and dist.is_initialized():\n",
    "        return dist.get_rank()\n",
    "    return 0\n",
    "\n",
    "\n",
    "class GatherLayer(torch.autograd.Function):\n",
    "    \"\"\"\n",
    "    Gathers tensors from all process and supports backward propagation\n",
    "    for the gradients across processes.\n",
    "    \"\"\"\n",
    "\n",
    "    @staticmethod\n",
    "    def forward(ctx, x):\n",
    "        if dist.is_available() and dist.is_initialized():\n",
    "            output = [torch.zeros_like(x) for _ in range(dist.get_world_size())]\n",
    "            dist.all_gather(output, x)\n",
    "        else:\n",
    "            output = [x]\n",
    "        return tuple(output)\n",
    "\n",
    "    @staticmethod\n",
    "    def backward(ctx, *grads):\n",
    "        if dist.is_available() and dist.is_initialized():\n",
    "            all_gradients = torch.stack(grads)\n",
    "            dist.all_reduce(all_gradients)\n",
    "            grad_out = all_gradients[get_rank()]\n",
    "        else:\n",
    "            grad_out = grads[0]\n",
    "        return grad_out\n",
    "\n",
    "\n",
    "def gather(X, dim=0):\n",
    "    \"\"\"Gathers tensors from all processes, supporting backward propagation.\"\"\"\n",
    "    return torch.cat(GatherLayer.apply(X), dim=dim)"
   ]
  },
  {
   "cell_type": "code",
   "execution_count": 14,
   "metadata": {},
   "outputs": [
    {
     "name": "stdout",
     "output_type": "stream",
     "text": [
      "torch.Size([4, 128])\n",
      "tensor([0, 1, 0, 1])\n",
      "tensor([[0, 0, 1, 0],\n",
      "        [0, 0, 0, 1],\n",
      "        [1, 0, 0, 0],\n",
      "        [0, 1, 0, 0]], dtype=torch.int32)\n",
      "tensor([[0, 1, 0, 1],\n",
      "        [1, 0, 1, 0],\n",
      "        [0, 1, 0, 1],\n",
      "        [1, 0, 1, 0]], dtype=torch.int32)\n"
     ]
    },
    {
     "data": {
      "text/plain": [
       "tensor(1.0946)"
      ]
     },
     "execution_count": 14,
     "metadata": {},
     "output_type": "execute_result"
    }
   ],
   "source": [
    "embeddings = torch.randn(4, 128)\n",
    "info_nce_loss(embeddings)"
   ]
  },
  {
   "cell_type": "code",
   "execution_count": 18,
   "metadata": {},
   "outputs": [],
   "source": [
    "def info_nce_loss(features):\n",
    "\n",
    "        labels = torch.cat([torch.arange(4) for i in range(2)], dim=0)\n",
    "        labels = (labels.unsqueeze(0) == labels.unsqueeze(1)).float()\n",
    "        \n",
    "\n",
    "        features = F.normalize(features, dim=1)\n",
    "\n",
    "        similarity_matrix = torch.matmul(features, features.T)\n",
    "        # assert similarity_matrix.shape == (\n",
    "        #     self.args.n_views * self.args.batch_size, self.args.n_views * self.args.batch_size)\n",
    "        # assert similarity_matrix.shape == labels.shape\n",
    "        \n",
    "        print(similarity_matrix.shape)\n",
    "\n",
    "        # discard the main diagonal from both: labels and similarities matrix\n",
    "        mask = torch.eye(labels.shape[0], dtype=torch.bool)\n",
    "        labels = labels[~mask].view(labels.shape[0], -1)\n",
    "        similarity_matrix = similarity_matrix[~mask].view(similarity_matrix.shape[0], -1)\n",
    "        # assert similarity_matrix.shape == labels.shape\n",
    "        \n",
    "        print(similarity_matrix.shape)\n",
    "\n",
    "        # select and combine multiple positives\n",
    "        positives = similarity_matrix[labels.bool()].view(labels.shape[0], -1)\n",
    "        \n",
    "        print(positives)\n",
    "\n",
    "        # select only the negatives the negatives\n",
    "        negatives = similarity_matrix[~labels.bool()].view(similarity_matrix.shape[0], -1)\n",
    "        \n",
    "        print(negatives)\n",
    "\n",
    "        logits = torch.cat([positives, negatives], dim=1)\n",
    "        \n",
    "        print(logits)\n",
    "        \n",
    "        labels = torch.zeros(logits.shape[0], dtype=torch.long)\n",
    "        \n",
    "        print(labels)\n",
    "\n",
    "        logits = logits / 0.1\n",
    "        \n",
    "        return torch.nn.functional.cross_entropy(logits, labels)"
   ]
  },
  {
   "cell_type": "code",
   "execution_count": 20,
   "metadata": {},
   "outputs": [
    {
     "name": "stdout",
     "output_type": "stream",
     "text": [
      "torch.Size([8, 8])\n"
     ]
    },
    {
     "ename": "IndexError",
     "evalue": "The shape of the mask [16, 16] at index 0 does not match the shape of the indexed tensor [8, 8] at index 0",
     "output_type": "error",
     "traceback": [
      "\u001b[0;31m---------------------------------------------------------------------------\u001b[0m",
      "\u001b[0;31mIndexError\u001b[0m                                Traceback (most recent call last)",
      "Cell \u001b[0;32mIn[20], line 1\u001b[0m\n\u001b[0;32m----> 1\u001b[0m \u001b[43minfo_nce_loss\u001b[49m\u001b[43m(\u001b[49m\u001b[43mtorch\u001b[49m\u001b[38;5;241;43m.\u001b[39;49m\u001b[43mrandn\u001b[49m\u001b[43m(\u001b[49m\u001b[38;5;241;43m8\u001b[39;49m\u001b[43m,\u001b[49m\u001b[43m \u001b[49m\u001b[38;5;241;43m128\u001b[39;49m\u001b[43m)\u001b[49m\u001b[43m)\u001b[49m\n",
      "Cell \u001b[0;32mIn[18], line 19\u001b[0m, in \u001b[0;36minfo_nce_loss\u001b[0;34m(features)\u001b[0m\n\u001b[1;32m     17\u001b[0m mask \u001b[38;5;241m=\u001b[39m torch\u001b[38;5;241m.\u001b[39meye(labels\u001b[38;5;241m.\u001b[39mshape[\u001b[38;5;241m0\u001b[39m], dtype\u001b[38;5;241m=\u001b[39mtorch\u001b[38;5;241m.\u001b[39mbool)\n\u001b[1;32m     18\u001b[0m labels \u001b[38;5;241m=\u001b[39m labels[\u001b[38;5;241m~\u001b[39mmask]\u001b[38;5;241m.\u001b[39mview(labels\u001b[38;5;241m.\u001b[39mshape[\u001b[38;5;241m0\u001b[39m], \u001b[38;5;241m-\u001b[39m\u001b[38;5;241m1\u001b[39m)\n\u001b[0;32m---> 19\u001b[0m similarity_matrix \u001b[38;5;241m=\u001b[39m \u001b[43msimilarity_matrix\u001b[49m\u001b[43m[\u001b[49m\u001b[38;5;241;43m~\u001b[39;49m\u001b[43mmask\u001b[49m\u001b[43m]\u001b[49m\u001b[38;5;241m.\u001b[39mview(similarity_matrix\u001b[38;5;241m.\u001b[39mshape[\u001b[38;5;241m0\u001b[39m], \u001b[38;5;241m-\u001b[39m\u001b[38;5;241m1\u001b[39m)\n\u001b[1;32m     20\u001b[0m \u001b[38;5;66;03m# assert similarity_matrix.shape == labels.shape\u001b[39;00m\n\u001b[1;32m     22\u001b[0m \u001b[38;5;28mprint\u001b[39m(similarity_matrix\u001b[38;5;241m.\u001b[39mshape)\n",
      "\u001b[0;31mIndexError\u001b[0m: The shape of the mask [16, 16] at index 0 does not match the shape of the indexed tensor [8, 8] at index 0"
     ]
    }
   ],
   "source": [
    "info_nce_loss(torch.randn(8, 128))"
   ]
  },
  {
   "cell_type": "code",
   "execution_count": null,
   "metadata": {},
   "outputs": [],
   "source": []
  },
  {
   "cell_type": "code",
   "execution_count": null,
   "metadata": {},
   "outputs": [],
   "source": []
  },
  {
   "cell_type": "code",
   "execution_count": null,
   "metadata": {},
   "outputs": [],
   "source": []
  },
  {
   "cell_type": "code",
   "execution_count": null,
   "metadata": {},
   "outputs": [],
   "source": []
  },
  {
   "cell_type": "code",
   "execution_count": null,
   "metadata": {},
   "outputs": [],
   "source": []
  },
  {
   "cell_type": "code",
   "execution_count": null,
   "metadata": {},
   "outputs": [],
   "source": []
  },
  {
   "cell_type": "code",
   "execution_count": null,
   "metadata": {},
   "outputs": [],
   "source": []
  }
 ],
 "metadata": {
  "kernelspec": {
   "display_name": "Python 3.9.18 ('MuMRVQ': conda)",
   "language": "python",
   "name": "python3"
  },
  "language_info": {
   "codemirror_mode": {
    "name": "ipython",
    "version": 3
   },
   "file_extension": ".py",
   "mimetype": "text/x-python",
   "name": "python",
   "nbconvert_exporter": "python",
   "pygments_lexer": "ipython3",
   "version": "3.9.18"
  },
  "orig_nbformat": 4,
  "vscode": {
   "interpreter": {
    "hash": "b4405aeff16a1b3990e07447ac3a41d1af66a9e297606669ae29b9b8994dfaf4"
   }
  }
 },
 "nbformat": 4,
 "nbformat_minor": 2
}
