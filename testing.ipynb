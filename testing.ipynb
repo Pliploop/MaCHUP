{
 "cells": [
  {
   "cell_type": "code",
   "execution_count": 1,
   "metadata": {},
   "outputs": [
    {
     "name": "stderr",
     "output_type": "stream",
     "text": [
      "/homes/jpmg86/anaconda3/envs/MuMRVQ/lib/python3.9/site-packages/tqdm/auto.py:21: TqdmWarning: IProgress not found. Please update jupyter and ipywidgets. See https://ipywidgets.readthedocs.io/en/stable/user_install.html\n",
      "  from .autonotebook import tqdm as notebook_tqdm\n",
      "/homes/jpmg86/anaconda3/envs/MuMRVQ/lib/python3.9/site-packages/torch/nn/utils/weight_norm.py:30: UserWarning: torch.nn.utils.weight_norm is deprecated in favor of torch.nn.utils.parametrizations.weight_norm.\n",
      "  warnings.warn(\"torch.nn.utils.weight_norm is deprecated in favor of torch.nn.utils.parametrizations.weight_norm.\")\n"
     ]
    }
   ],
   "source": [
    "from src.models.Encodec import Encodec\n",
    "encodec = Encodec()\n"
   ]
  },
  {
   "cell_type": "code",
   "execution_count": 2,
   "metadata": {},
   "outputs": [],
   "source": [
    "from audiocraft.modules.codebooks_patterns import DelayedPatternProvider\n",
    "\n",
    "pattern_provider = DelayedPatternProvider(4)\n",
    "\n",
    "import torch\n",
    "test = torch.randn(1,24000*20)\n",
    "\n",
    "test2 = {\"wav\" : torch.randn(2,1,24000*20),\n",
    "        \"original_lens\" : torch.Tensor([[24000*13],[24000*15]]).int()}\n",
    "\n",
    "codes = encodec(test)\n"
   ]
  },
  {
   "cell_type": "markdown",
   "metadata": {},
   "source": []
  },
  {
   "cell_type": "code",
   "execution_count": 3,
   "metadata": {},
   "outputs": [],
   "source": [
    "from src.models.model import MuMRVQ\n",
    "from src.models.Transformer.Encoder import VanillaEncoder\n",
    "from src.models.Transformer.Decoder import VanillaDecoder\n",
    "model = MuMRVQ(VanillaEncoder(layers=2), VanillaDecoder(layers=2) ,encodec, debug = False, pattern=\"none\", mask_before=False, sequence_length=10)"
   ]
  },
  {
   "cell_type": "code",
   "execution_count": null,
   "metadata": {},
   "outputs": [],
   "source": []
  },
  {
   "cell_type": "code",
   "execution_count": 4,
   "metadata": {},
   "outputs": [
    {
     "name": "stdout",
     "output_type": "stream",
     "text": [
      "tensor(975, dtype=torch.int32)\n",
      "tensor(1125, dtype=torch.int32)\n",
      "codes: torch.Size([2, 4, 1500])\n",
      "padding_mask: torch.Size([2, 1501])\n",
      "codes: torch.Size([2, 4, 10])\n",
      "padding_mask: torch.Size([2, 10])\n",
      "masking after with masking proba : 0.5\n",
      "============== codes_masking ==============\n",
      "tensor([[[ True, False, False, False,  True,  True,  True, False,  True, False],\n",
      "         [ True, False, False, False,  True,  True,  True, False,  True, False],\n",
      "         [ True, False, False, False,  True,  True,  True, False,  True, False],\n",
      "         [ True, False, False, False,  True,  True,  True, False,  True, False]],\n",
      "\n",
      "        [[False, False, False,  True, False,  True, False,  True,  True,  True],\n",
      "         [False, False, False,  True, False,  True, False,  True,  True,  True],\n",
      "         [False, False, False,  True, False,  True, False,  True,  True,  True],\n",
      "         [False, False, False,  True, False,  True, False,  True,  True,  True]]])\n",
      "torch.Size([2, 4, 10])\n",
      "40 tokens were masked with random masking\n",
      "shape coming out of encoder: ============\n",
      "torch.Size([2, 6, 960])\n",
      "========= retained idx shape ============\n",
      "torch.Size([2, 5])\n",
      "=========== Masked without embeddings shape ========\n",
      "torch.Size([2, 10, 960])\n",
      "========= all_masked.shape ==========\n",
      "torch.Size([2, 10, 960])\n",
      "========= around masked index ========\n",
      "tensor([[-0.3225, -0.1521,  0.4332],\n",
      "        [-0.3225, -0.1521,  0.4332]], grad_fn=<SliceBackward0>)\n",
      "tensor([[-0.3664, -0.2367, -0.0102],\n",
      "        [-0.3225, -0.1521,  0.4332]], grad_fn=<SliceBackward0>)\n",
      "class token =============\n",
      "torch.Size([2, 1, 960])\n",
      "========= All outputs for the encoder========\n",
      "-------- masked output with class token --------\n",
      "torch.Size([2, 6, 960])\n",
      "-------- unmasked output with class token and original embeddingd without class token --------\n",
      "torch.Size([2, 11, 960])\n",
      "torch.Size([2, 10, 960])\n",
      "-------- codes_mask.shape ---------\n",
      "torch.Size([2, 4, 10])\n",
      "------ padding_mask.shape ----------\n",
      "torch.Size([2, 11])\n"
     ]
    }
   ],
   "source": [
    "out_ = model(test2)"
   ]
  },
  {
   "cell_type": "code",
   "execution_count": 5,
   "metadata": {},
   "outputs": [
    {
     "data": {
      "text/plain": [
       "tensor([[[1025,  732,  399,  732, 1025, 1025, 1025,  732, 1025,  732],\n",
       "         [1025,  691,  691, 1008, 1025, 1025, 1025,  387, 1025,  691],\n",
       "         [1025,  637,  954,   30, 1025, 1025, 1025,  155, 1025,  444],\n",
       "         [1025,  199,  327,  165, 1025, 1025, 1025,  873, 1025,  751]],\n",
       "\n",
       "        [[ 732,  732,  732, 1025,  732, 1025,  732, 1025, 1025, 1025],\n",
       "         [ 387,  348, 1008, 1025,  574, 1025,  691, 1025, 1025, 1025],\n",
       "         [ 900,  726,   53, 1025,  900, 1025,  851, 1025, 1025, 1025],\n",
       "         [ 513,  751,  679, 1025,  272, 1025,  910, 1025, 1025, 1025]]])"
      ]
     },
     "execution_count": 5,
     "metadata": {},
     "output_type": "execute_result"
    }
   ],
   "source": [
    "out_['codes']"
   ]
  },
  {
   "cell_type": "code",
   "execution_count": 6,
   "metadata": {},
   "outputs": [
    {
     "data": {
      "text/plain": [
       "tensor(7.0937, grad_fn=<NllLoss2DBackward0>)"
      ]
     },
     "execution_count": 6,
     "metadata": {},
     "output_type": "execute_result"
    }
   ],
   "source": [
    "from torch.nn import CrossEntropyLoss\n",
    "\n",
    "CrossEntropyLoss(ignore_index=1026)(out_['logits'][:,:,:,1:],out_['codes'])"
   ]
  },
  {
   "cell_type": "code",
   "execution_count": null,
   "metadata": {},
   "outputs": [],
   "source": [
    "dummy_path = "
   ]
  },
  {
   "cell_type": "code",
   "execution_count": null,
   "metadata": {},
   "outputs": [],
   "source": []
  },
  {
   "cell_type": "code",
   "execution_count": null,
   "metadata": {},
   "outputs": [],
   "source": []
  },
  {
   "cell_type": "code",
   "execution_count": null,
   "metadata": {},
   "outputs": [],
   "source": []
  },
  {
   "cell_type": "code",
   "execution_count": null,
   "metadata": {},
   "outputs": [],
   "source": []
  },
  {
   "cell_type": "code",
   "execution_count": null,
   "metadata": {},
   "outputs": [],
   "source": []
  },
  {
   "cell_type": "code",
   "execution_count": null,
   "metadata": {},
   "outputs": [],
   "source": []
  },
  {
   "cell_type": "code",
   "execution_count": null,
   "metadata": {},
   "outputs": [],
   "source": []
  },
  {
   "cell_type": "code",
   "execution_count": null,
   "metadata": {},
   "outputs": [],
   "source": []
  },
  {
   "cell_type": "code",
   "execution_count": null,
   "metadata": {},
   "outputs": [],
   "source": []
  },
  {
   "cell_type": "code",
   "execution_count": null,
   "metadata": {},
   "outputs": [],
   "source": []
  },
  {
   "cell_type": "code",
   "execution_count": null,
   "metadata": {},
   "outputs": [],
   "source": []
  }
 ],
 "metadata": {
  "kernelspec": {
   "display_name": "Python 3.9.18 ('MuMRVQ': conda)",
   "language": "python",
   "name": "python3"
  },
  "language_info": {
   "codemirror_mode": {
    "name": "ipython",
    "version": 3
   },
   "file_extension": ".py",
   "mimetype": "text/x-python",
   "name": "python",
   "nbconvert_exporter": "python",
   "pygments_lexer": "ipython3",
   "version": "3.9.0"
  },
  "orig_nbformat": 4,
  "vscode": {
   "interpreter": {
    "hash": "b4405aeff16a1b3990e07447ac3a41d1af66a9e297606669ae29b9b8994dfaf4"
   }
  }
 },
 "nbformat": 4,
 "nbformat_minor": 2
}
